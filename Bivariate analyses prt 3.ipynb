{
 "cells": [
  {
   "cell_type": "markdown",
   "metadata": {},
   "source": [
    "pip install -r requirements.txt"
   ]
  },
  {
   "cell_type": "markdown",
   "metadata": {},
   "source": [
    "# Bivariate analyses"
   ]
  },
  {
   "cell_type": "code",
   "execution_count": null,
   "metadata": {},
   "outputs": [],
   "source": []
  },
  {
   "cell_type": "code",
   "execution_count": null,
   "metadata": {
    "cell_id": "b7dca754704744a188baebd80416cfec",
    "deepnote_cell_type": "code",
    "deepnote_to_be_reexecuted": false,
    "execution_millis": 370,
    "execution_start": 1699352577674,
    "source_hash": null
   },
   "outputs": [],
   "source": [
    "penguins = sns.load_dataset(\"penguins\")"
   ]
  },
  {
   "cell_type": "code",
   "execution_count": null,
   "metadata": {
    "cell_id": "a52a8d2f6c4440b6aedbb68289d081c0",
    "deepnote_cell_type": "code",
    "deepnote_to_be_reexecuted": false,
    "execution_millis": 154,
    "execution_start": 1699352578048,
    "source_hash": null
   },
   "outputs": [
    {
     "data": {
      "application/vnd.deepnote.dataframe.v3+json": {
       "column_count": 7,
       "columns": [
        {
         "dtype": "object",
         "name": "species",
         "stats": {
          "categories": [
           {
            "count": 5,
            "name": "Adelie"
           }
          ],
          "nan_count": 0,
          "unique_count": 1
         }
        },
        {
         "dtype": "object",
         "name": "island",
         "stats": {
          "categories": [
           {
            "count": 5,
            "name": "Torgersen"
           }
          ],
          "nan_count": 0,
          "unique_count": 1
         }
        },
        {
         "dtype": "float64",
         "name": "bill_length_mm",
         "stats": {
          "histogram": [
           {
            "bin_end": 37.06,
            "bin_start": 36.7,
            "count": 1
           },
           {
            "bin_end": 37.42,
            "bin_start": 37.06,
            "count": 0
           },
           {
            "bin_end": 37.78,
            "bin_start": 37.42,
            "count": 0
           },
           {
            "bin_end": 38.14,
            "bin_start": 37.78,
            "count": 0
           },
           {
            "bin_end": 38.5,
            "bin_start": 38.14,
            "count": 0
           },
           {
            "bin_end": 38.86,
            "bin_start": 38.5,
            "count": 0
           },
           {
            "bin_end": 39.22,
            "bin_start": 38.86,
            "count": 1
           },
           {
            "bin_end": 39.58,
            "bin_start": 39.22,
            "count": 1
           },
           {
            "bin_end": 39.94,
            "bin_start": 39.58,
            "count": 0
           },
           {
            "bin_end": 40.3,
            "bin_start": 39.94,
            "count": 1
           }
          ],
          "max": "40.3",
          "min": "36.7",
          "nan_count": 1,
          "unique_count": 4
         }
        },
        {
         "dtype": "float64",
         "name": "bill_depth_mm",
         "stats": {
          "histogram": [
           {
            "bin_end": 17.59,
            "bin_start": 17.4,
            "count": 1
           },
           {
            "bin_end": 17.779999999999998,
            "bin_start": 17.59,
            "count": 0
           },
           {
            "bin_end": 17.97,
            "bin_start": 17.779999999999998,
            "count": 0
           },
           {
            "bin_end": 18.16,
            "bin_start": 17.97,
            "count": 1
           },
           {
            "bin_end": 18.35,
            "bin_start": 18.16,
            "count": 0
           },
           {
            "bin_end": 18.54,
            "bin_start": 18.35,
            "count": 0
           },
           {
            "bin_end": 18.73,
            "bin_start": 18.54,
            "count": 1
           },
           {
            "bin_end": 18.92,
            "bin_start": 18.73,
            "count": 0
           },
           {
            "bin_end": 19.11,
            "bin_start": 18.92,
            "count": 0
           },
           {
            "bin_end": 19.3,
            "bin_start": 19.11,
            "count": 1
           }
          ],
          "max": "19.3",
          "min": "17.4",
          "nan_count": 1,
          "unique_count": 4
         }
        },
        {
         "dtype": "float64",
         "name": "flipper_length_mm",
         "stats": {
          "histogram": [
           {
            "bin_end": 182.4,
            "bin_start": 181,
            "count": 1
           },
           {
            "bin_end": 183.8,
            "bin_start": 182.4,
            "count": 0
           },
           {
            "bin_end": 185.2,
            "bin_start": 183.8,
            "count": 0
           },
           {
            "bin_end": 186.6,
            "bin_start": 185.2,
            "count": 1
           },
           {
            "bin_end": 188,
            "bin_start": 186.6,
            "count": 0
           },
           {
            "bin_end": 189.4,
            "bin_start": 188,
            "count": 0
           },
           {
            "bin_end": 190.8,
            "bin_start": 189.4,
            "count": 0
           },
           {
            "bin_end": 192.2,
            "bin_start": 190.8,
            "count": 0
           },
           {
            "bin_end": 193.6,
            "bin_start": 192.2,
            "count": 1
           },
           {
            "bin_end": 195,
            "bin_start": 193.6,
            "count": 1
           }
          ],
          "max": "195.0",
          "min": "181.0",
          "nan_count": 1,
          "unique_count": 4
         }
        },
        {
         "dtype": "float64",
         "name": "body_mass_g",
         "stats": {
          "histogram": [
           {
            "bin_end": 3305,
            "bin_start": 3250,
            "count": 1
           },
           {
            "bin_end": 3360,
            "bin_start": 3305,
            "count": 0
           },
           {
            "bin_end": 3415,
            "bin_start": 3360,
            "count": 0
           },
           {
            "bin_end": 3470,
            "bin_start": 3415,
            "count": 1
           },
           {
            "bin_end": 3525,
            "bin_start": 3470,
            "count": 0
           },
           {
            "bin_end": 3580,
            "bin_start": 3525,
            "count": 0
           },
           {
            "bin_end": 3635,
            "bin_start": 3580,
            "count": 0
           },
           {
            "bin_end": 3690,
            "bin_start": 3635,
            "count": 0
           },
           {
            "bin_end": 3745,
            "bin_start": 3690,
            "count": 0
           },
           {
            "bin_end": 3800,
            "bin_start": 3745,
            "count": 2
           }
          ],
          "max": "3800.0",
          "min": "3250.0",
          "nan_count": 1,
          "unique_count": 4
         }
        },
        {
         "dtype": "object",
         "name": "sex",
         "stats": {
          "categories": [
           {
            "count": 3,
            "name": "Female"
           },
           {
            "count": 1,
            "name": "Male"
           },
           {
            "count": 1,
            "name": "Missing"
           }
          ],
          "nan_count": 1,
          "unique_count": 2
         }
        },
        {
         "dtype": "int64",
         "name": "_deepnote_index_column"
        }
       ],
       "row_count": 5,
       "rows": [
        {
         "_deepnote_index_column": 0,
         "bill_depth_mm": 18.7,
         "bill_length_mm": 39.1,
         "body_mass_g": 3750,
         "flipper_length_mm": 181,
         "island": "Torgersen",
         "sex": "Male",
         "species": "Adelie"
        },
        {
         "_deepnote_index_column": 1,
         "bill_depth_mm": 17.4,
         "bill_length_mm": 39.5,
         "body_mass_g": 3800,
         "flipper_length_mm": 186,
         "island": "Torgersen",
         "sex": "Female",
         "species": "Adelie"
        },
        {
         "_deepnote_index_column": 2,
         "bill_depth_mm": 18,
         "bill_length_mm": 40.3,
         "body_mass_g": 3250,
         "flipper_length_mm": 195,
         "island": "Torgersen",
         "sex": "Female",
         "species": "Adelie"
        },
        {
         "_deepnote_index_column": 3,
         "bill_depth_mm": "nan",
         "bill_length_mm": "nan",
         "body_mass_g": "nan",
         "flipper_length_mm": "nan",
         "island": "Torgersen",
         "sex": "nan",
         "species": "Adelie"
        },
        {
         "_deepnote_index_column": 4,
         "bill_depth_mm": 19.3,
         "bill_length_mm": 36.7,
         "body_mass_g": 3450,
         "flipper_length_mm": 193,
         "island": "Torgersen",
         "sex": "Female",
         "species": "Adelie"
        }
       ]
      },
      "text/html": [
       "<div>\n",
       "<style scoped>\n",
       "    .dataframe tbody tr th:only-of-type {\n",
       "        vertical-align: middle;\n",
       "    }\n",
       "\n",
       "    .dataframe tbody tr th {\n",
       "        vertical-align: top;\n",
       "    }\n",
       "\n",
       "    .dataframe thead th {\n",
       "        text-align: right;\n",
       "    }\n",
       "</style>\n",
       "<table border=\"1\" class=\"dataframe\">\n",
       "  <thead>\n",
       "    <tr style=\"text-align: right;\">\n",
       "      <th></th>\n",
       "      <th>species</th>\n",
       "      <th>island</th>\n",
       "      <th>bill_length_mm</th>\n",
       "      <th>bill_depth_mm</th>\n",
       "      <th>flipper_length_mm</th>\n",
       "      <th>body_mass_g</th>\n",
       "      <th>sex</th>\n",
       "    </tr>\n",
       "  </thead>\n",
       "  <tbody>\n",
       "    <tr>\n",
       "      <th>0</th>\n",
       "      <td>Adelie</td>\n",
       "      <td>Torgersen</td>\n",
       "      <td>39.1</td>\n",
       "      <td>18.7</td>\n",
       "      <td>181.0</td>\n",
       "      <td>3750.0</td>\n",
       "      <td>Male</td>\n",
       "    </tr>\n",
       "    <tr>\n",
       "      <th>1</th>\n",
       "      <td>Adelie</td>\n",
       "      <td>Torgersen</td>\n",
       "      <td>39.5</td>\n",
       "      <td>17.4</td>\n",
       "      <td>186.0</td>\n",
       "      <td>3800.0</td>\n",
       "      <td>Female</td>\n",
       "    </tr>\n",
       "    <tr>\n",
       "      <th>2</th>\n",
       "      <td>Adelie</td>\n",
       "      <td>Torgersen</td>\n",
       "      <td>40.3</td>\n",
       "      <td>18.0</td>\n",
       "      <td>195.0</td>\n",
       "      <td>3250.0</td>\n",
       "      <td>Female</td>\n",
       "    </tr>\n",
       "    <tr>\n",
       "      <th>3</th>\n",
       "      <td>Adelie</td>\n",
       "      <td>Torgersen</td>\n",
       "      <td>NaN</td>\n",
       "      <td>NaN</td>\n",
       "      <td>NaN</td>\n",
       "      <td>NaN</td>\n",
       "      <td>NaN</td>\n",
       "    </tr>\n",
       "    <tr>\n",
       "      <th>4</th>\n",
       "      <td>Adelie</td>\n",
       "      <td>Torgersen</td>\n",
       "      <td>36.7</td>\n",
       "      <td>19.3</td>\n",
       "      <td>193.0</td>\n",
       "      <td>3450.0</td>\n",
       "      <td>Female</td>\n",
       "    </tr>\n",
       "  </tbody>\n",
       "</table>\n",
       "</div>"
      ],
      "text/plain": [
       "  species     island  bill_length_mm  bill_depth_mm  flipper_length_mm  \\\n",
       "0  Adelie  Torgersen            39.1           18.7              181.0   \n",
       "1  Adelie  Torgersen            39.5           17.4              186.0   \n",
       "2  Adelie  Torgersen            40.3           18.0              195.0   \n",
       "3  Adelie  Torgersen             NaN            NaN                NaN   \n",
       "4  Adelie  Torgersen            36.7           19.3              193.0   \n",
       "\n",
       "   body_mass_g     sex  \n",
       "0       3750.0    Male  \n",
       "1       3800.0  Female  \n",
       "2       3250.0  Female  \n",
       "3          NaN     NaN  \n",
       "4       3450.0  Female  "
      ]
     },
     "execution_count": 3,
     "metadata": {},
     "output_type": "execute_result"
    }
   ],
   "source": [
    "penguins.head()"
   ]
  },
  {
   "cell_type": "markdown",
   "metadata": {
    "cell_id": "6d5fb8f0c58e44a9900c5ecb445cebce",
    "deepnote_cell_type": "markdown"
   },
   "source": [
    "Hypothesis: The mean of body mass of the population of penguins is 4000 gr "
   ]
  },
  {
   "cell_type": "code",
   "execution_count": null,
   "metadata": {
    "cell_id": "92cacc6833054544b67cf259743f749f",
    "deepnote_cell_type": "code",
    "deepnote_to_be_reexecuted": false,
    "execution_millis": 16,
    "execution_start": 1699352578218,
    "source_hash": null
   },
   "outputs": [
    {
     "data": {
      "text/plain": [
       "4201.754385964912"
      ]
     },
     "execution_count": 4,
     "metadata": {},
     "output_type": "execute_result"
    }
   ],
   "source": [
    "mean_mass_samp = penguins['body_mass_g'].mean()\n",
    "mean_mass_samp"
   ]
  },
  {
   "cell_type": "markdown",
   "metadata": {
    "cell_id": "40ccd1292b8b46bfa72991a79fc5b679",
    "deepnote_cell_type": "markdown"
   },
   "source": [
    "Is this meaningfully different from our hypothesis?"
   ]
  },
  {
   "cell_type": "markdown",
   "metadata": {
    "cell_id": "a5d5d09e3cbe46c4b77ddd3a99043899",
    "deepnote_cell_type": "markdown"
   },
   "source": [
    "With <strong> bootstrapping </strong> we build up a theoritical population based on our sample, the dataset. It should be similar to that of the population: \n",
    "\n",
    "![](https://miro.medium.com/max/1400/1*1DT-TXVpxwCQa5kUxzt5AA.png)"
   ]
  },
  {
   "cell_type": "code",
   "execution_count": null,
   "metadata": {
    "cell_id": "9527c692ccce4d27a9153e1475497179",
    "deepnote_cell_type": "code",
    "deepnote_to_be_reexecuted": false,
    "execution_millis": 2931,
    "execution_start": 1699352578237,
    "source_hash": null
   },
   "outputs": [],
   "source": [
    "#step 3 create a bootstrap distribution\n",
    "so_boot_distn=[]\n",
    "for i in range(5000):\n",
    "    so_boot_distn.append(\n",
    "    # step 2 calculate point estimate\n",
    "    np.mean (\n",
    "    #step 1 resample\n",
    "    penguins.sample(frac=.2, replace=True)['body_mass_g']\n",
    "    )\n",
    ")"
   ]
  },
  {
   "cell_type": "code",
   "execution_count": null,
   "metadata": {
    "cell_id": "1689190745634d5a8bffc13f723d71ea",
    "deepnote_cell_type": "code",
    "deepnote_to_be_reexecuted": false,
    "execution_millis": 520,
    "execution_start": 1699352581173,
    "source_hash": null
   },
   "outputs": [
    {
     "data": {
      "image/png": "[encoded data removed]",
      "text/plain": [
       "<Figure size 640x480 with 1 Axes>"
      ]
     },
     "metadata": {
      "image/png": {
       "height": 413,
       "width": 552
      }
     },
     "output_type": "display_data"
    }
   ],
   "source": [
    "plt.hist(so_boot_distn, bins=50);\n",
    "plt.axvline(x=4000, c='red',linestyle=(0, (5, 5)))\n",
    "plt.show()\n",
    "\n",
    "\n"
   ]
  },
  {
   "cell_type": "markdown",
   "metadata": {
    "cell_id": "004761061d5d4f4b80c1724ba147fd1b",
    "deepnote_cell_type": "markdown"
   },
   "source": [
    "The 4000 gr is on the left of the distribution. </br>\n",
    "The standard error is the standard deviation of the bootstrap distribution."
   ]
  },
  {
   "cell_type": "markdown",
   "metadata": {
    "cell_id": "16e3bbd522304000b85fe31583e167f1",
    "deepnote_cell_type": "markdown"
   },
   "source": [
    "# Statistical hypothesis"
   ]
  },
  {
   "cell_type": "markdown",
   "metadata": {
    "cell_id": "78f9f996164549588bd7b36101363a42",
    "deepnote_cell_type": "markdown"
   },
   "source": [
    "<strong> Hypothese testing</strong> is a structured procedure to investigate our ideas about the world (in DS about the data). \n",
    "<strong> Hypothesis</strong> is a statement about an unknown population parameter. We don't know the true value of this population parameter and can only make inferences about it from our data. \n",
    "Hypothese test is a test of two compoting hypothesis:\n",
    "- H0: null hypothesis, the existing idea (often reason from it is not the case or no significant effect)\n",
    "- Ha/H1: alternative hypothesis, the new idea of the researcher\n",
    "\n",
    "In a procedure at court there are two possible true statements:\n",
    "- The defendant did not commited the crime (H0: not guilty)\n",
    "- The defendant committed the crime (H1: guilty)\n",
    "\n",
    "<strong>P-value</strong>: the probability of obtaining the result, always about the idea that the null hypothesis is true. It measures the strength of support for the H0 or in other words it measures the probability of obtaing a result, assuming the null hypothesis is true. \n",
    "\n",
    "<strong>Significance level (α)</strong>: if the p-value is under this significance level you reject your H0 (p-value ≤ α)\n",
    "<br>\n",
    "If H0 includes:\n",
    "- not different from (=) -> Ha/H1 is different from (≠)\n",
    "- greater than or equal (≥) -> Ha/H1 is less than (<)\n",
    "- less than or equal (≤) -> Ha/H1 is greater than (>)\n",
    "\n",
    "If the Ha/H1 includes:\n",
    "- different from (≠): two tailed test => t.cdf or norm.cdf AND 1-t.cdf or 1-norm.cdf\n",
    "- greater than (>): right tailed test => 1-t.cdf or 1-norm.cdf\n",
    "- less than (<): left tailed test => t.cdf or norm.cdf\n",
    "\n",
    "<img src=\"left_right_two_tailed.png\">\n"
   ]
  },
  {
   "cell_type": "markdown",
   "metadata": {
    "cell_id": "5c900fdb7ec34f4aa7776583d294e925",
    "deepnote_cell_type": "markdown"
   },
   "source": [
    "## Hypothesis 1: one sample statistic"
   ]
  },
  {
   "cell_type": "markdown",
   "metadata": {
    "cell_id": "03ade1b8339f41689c314ccafa7d8d54",
    "deepnote_cell_type": "markdown"
   },
   "source": [
    "If you received from <i>previous research</i> that the average weight of penguins is 4000 gr. Then rises the question if our sample provides evidence that the average weight of the population is greater than 4000 gr. <br>\n",
    "\n",
    "Hypothese for the penguin dataset with (α =0.05)\n",
    "- H0: The mean of body mass of the population of all penguins<strong> is less than or equal to</strong>  4000 gr (μ ≤ 4000.0)\n",
    "- Ha/H1: The mean of body mass of the population of all penguins <strong> greater than </strong> 4000 gr (μ > 4000.0)"
   ]
  },
  {
   "cell_type": "markdown",
   "metadata": {
    "cell_id": "c3870fd6503840878393e18c015d7636",
    "deepnote_cell_type": "markdown"
   },
   "source": [
    "First we need to determine from the information what kind of statistics we will use:\n",
    "\n",
    "![](https://www.statology.org/wp-content/uploads/2021/08/zscore_vs_tscore1.png)"
   ]
  },
  {
   "cell_type": "code",
   "execution_count": null,
   "metadata": {
    "cell_id": "cb6503a179024101a79453ced1218dac",
    "deepnote_cell_type": "code"
   },
   "outputs": [],
   "source": [
    "std_error = np.std(so_boot_distn, ddof=1)"
   ]
  },
  {
   "cell_type": "markdown",
   "metadata": {
    "cell_id": "fba0dff4ab1643f49f2348b183f6181f",
    "deepnote_cell_type": "markdown"
   },
   "source": [
    "Before we can test the hypothesis we need to standardize the values. We do this by using the z-score. </br>\n",
    "\n",
    "The z-score is a standardized measure of the difference between the sample statistic and the hypothesized statistic. It tells us how many standard deviations a value is away from the mean (hypothesis mean).\n"
   ]
  },
  {
   "cell_type": "code",
   "execution_count": null,
   "metadata": {
    "cell_id": "97d05f9697254f9daafaf4db0b4b7891",
    "deepnote_cell_type": "code",
    "deepnote_to_be_reexecuted": false,
    "execution_millis": 26,
    "execution_start": 1699352581708,
    "source_hash": null
   },
   "outputs": [],
   "source": [
    "mean_mass_hyp = 4000\n",
    "mean_mass_samp = penguins.body_mass_g.mean() #4201...\n",
    "z_score = (mean_mass_samp- mean_mass_hyp)/ std_error"
   ]
  },
  {
   "cell_type": "code",
   "execution_count": null,
   "metadata": {
    "cell_id": "9706b636f20b40d6926a209d14afbdaa",
    "deepnote_cell_type": "code",
    "deepnote_to_be_reexecuted": false,
    "execution_millis": 44,
    "execution_start": 1699352581727,
    "source_hash": null
   },
   "outputs": [
    {
     "data": {
      "text/plain": [
       "4000"
      ]
     },
     "execution_count": 9,
     "metadata": {},
     "output_type": "execute_result"
    }
   ],
   "source": [
    "mean_mass_hyp"
   ]
  },
  {
   "cell_type": "code",
   "execution_count": null,
   "metadata": {
    "cell_id": "5ad078c56f6641499d529cd6c1ec2fb3",
    "deepnote_cell_type": "code",
    "deepnote_to_be_reexecuted": false,
    "execution_millis": 25,
    "execution_start": 1699352581765,
    "source_hash": null
   },
   "outputs": [
    {
     "data": {
      "text/plain": [
       "4201.754385964912"
      ]
     },
     "execution_count": 10,
     "metadata": {},
     "output_type": "execute_result"
    }
   ],
   "source": [
    "mean_mass_samp"
   ]
  },
  {
   "cell_type": "code",
   "execution_count": null,
   "metadata": {
    "cell_id": "e71a5fe355a745fb8f949e5085351465",
    "deepnote_cell_type": "code",
    "deepnote_to_be_reexecuted": false,
    "execution_millis": 38,
    "execution_start": 1699352581806,
    "source_hash": null
   },
   "outputs": [
    {
     "data": {
      "text/plain": [
       "2.0911015692302866"
      ]
     },
     "execution_count": 11,
     "metadata": {},
     "output_type": "execute_result"
    }
   ],
   "source": [
    "z_score"
   ]
  },
  {
   "cell_type": "markdown",
   "metadata": {
    "cell_id": "524c0440afc74e38b3bf558bdb957c0d",
    "deepnote_cell_type": "markdown"
   },
   "source": [
    "The cumulative distribution function (cdf) gives the probability that the random variable X is less than or equal to x.\n",
    "Using the z-score as the x-value in the CDF allows us to work with a standardized normal distribution, which is useful for comparing values from different normal distributions."
   ]
  },
  {
   "cell_type": "code",
   "execution_count": null,
   "metadata": {
    "cell_id": "4dc9a322b02b437a805171ec29c4963b",
    "deepnote_cell_type": "code",
    "deepnote_to_be_reexecuted": false,
    "execution_millis": 40,
    "execution_start": 1699352581806,
    "source_hash": null
   },
   "outputs": [
    {
     "name": "stdout",
     "output_type": "stream",
     "text": [
      "The p-value is: 0.01825948004141642\n"
     ]
    }
   ],
   "source": [
    "from scipy.stats import norm\n",
    "p_value = 1-norm.cdf(z_score)\n",
    "# Print the p_value\n",
    "print('The p-value is: {}'.format(p_value))"
   ]
  },
  {
   "cell_type": "code",
   "execution_count": null,
   "metadata": {
    "cell_id": "8e8276d4123a47a99f0b9bba03b2726e",
    "deepnote_cell_type": "code",
    "deepnote_to_be_reexecuted": false,
    "execution_millis": 44,
    "execution_start": 1699352581807,
    "source_hash": null
   },
   "outputs": [
    {
     "name": "stdout",
     "output_type": "stream",
     "text": [
      "Reject Null Hypothesis\n"
     ]
    }
   ],
   "source": [
    "alpha=0.05\n",
    "if(p_value <  alpha):\n",
    "  print(\"Reject Null Hypothesis\")\n",
    "else:\n",
    "  print(\"Fail to Reject NUll Hypothesis\")"
   ]
  },
  {
   "cell_type": "markdown",
   "metadata": {
    "cell_id": "18b825631ae74612aae9e4f273e7820a",
    "deepnote_cell_type": "markdown"
   },
   "source": [
    "<strong> Conclusion: </strong> we reject the H0 because the p-value is lower than 0.05 </br>\n",
    "The sample provides enough evidence that the mean is higher then 4000 gr."
   ]
  },
  {
   "cell_type": "markdown",
   "metadata": {
    "cell_id": "75ccf85a156646598cc539ebf8742346",
    "deepnote_cell_type": "markdown"
   },
   "source": [
    "## Hypothesis 2: two sample statistic"
   ]
  },
  {
   "cell_type": "markdown",
   "metadata": {
    "cell_id": "ee96fa71b9c04f10ba93c677beb2cc6b",
    "deepnote_cell_type": "markdown"
   },
   "source": [
    "Another hypothesis on the penguin dataset (α =0.05):\n",
    "- H0: The mean of body mass of male penguins is <strong> greater than or equal to </strong>  than that of female penguins (μ_male ≥  μ_female)\n",
    "- Ha/H1: The mean of body mass of  male penguins is <strong> less </strong>  than that of female penguins (μf < μm)"
   ]
  },
  {
   "cell_type": "markdown",
   "metadata": {
    "cell_id": "ab9cf5616df946eba16fe5977f222653",
    "deepnote_cell_type": "markdown"
   },
   "source": [
    "<strong> Degrees of freedom: </strong> are defined as the maximum number of logically independent values in the data sample. If you know the average of 5 differten numbers then I only need 4 of them to find out what number 5 is. "
   ]
  },
  {
   "cell_type": "markdown",
   "metadata": {
    "cell_id": "36e6e5de5a764f19ad36bc92b0b49dd6",
    "deepnote_cell_type": "markdown"
   },
   "source": [
    "![](https://vitalflux.com/wp-content/uploads/2022/01/Difference-between-means-of-two-populations.jpg)"
   ]
  },
  {
   "cell_type": "code",
   "execution_count": null,
   "metadata": {
    "cell_id": "4011dc4c6c9c404a980ba199af92d515",
    "deepnote_cell_type": "code",
    "deepnote_to_be_reexecuted": false,
    "execution_millis": 89,
    "execution_start": 1699352581813,
    "source_hash": null
   },
   "outputs": [],
   "source": [
    "#create variables for mean, standard error and number\n",
    "#the mean per category\n",
    "m_male = np.mean(penguins[penguins['sex']== 'Male']['body_mass_g'])\n",
    "m_female = np.mean(penguins[penguins['sex']== 'Female']['body_mass_g'])\n",
    "#the standard error per category\n",
    "s_male = np.std(penguins[penguins['sex']== 'Male']['body_mass_g'], ddof=1)\n",
    "s_female = np.std(penguins[penguins['sex']== 'Female']['body_mass_g'], ddof=1)\n",
    "#the sample size per category\n",
    "n_female = len(penguins[penguins['sex']== 'Female']['body_mass_g'])\n",
    "n_male = len(penguins[penguins['sex']== 'Male']['body_mass_g'])"
   ]
  },
  {
   "cell_type": "code",
   "execution_count": null,
   "metadata": {
    "cell_id": "4ee8a0ef1b46497689082cd5148df294",
    "deepnote_cell_type": "code",
    "deepnote_to_be_reexecuted": false,
    "execution_millis": 82,
    "execution_start": 1699352581882,
    "source_hash": null
   },
   "outputs": [
    {
     "name": "stdout",
     "output_type": "stream",
     "text": [
      "8.554537231165762\n"
     ]
    }
   ],
   "source": [
    "nominator= m_male-m_female\n",
    "denominator=np.sqrt(s_male**2/n_male +s_female**2/n_female)\n",
    "#t-test calculation\n",
    "t_stat=nominator/denominator\n",
    "print(t_stat)"
   ]
  },
  {
   "cell_type": "code",
   "execution_count": null,
   "metadata": {
    "cell_id": "f039451028c44b43a8ad72afc79f1577",
    "deepnote_cell_type": "code",
    "deepnote_to_be_reexecuted": false,
    "execution_millis": 95,
    "execution_start": 1699352581883,
    "source_hash": null
   },
   "outputs": [
    {
     "name": "stdout",
     "output_type": "stream",
     "text": [
      "The p-value is: 0.9999999999999998\n"
     ]
    }
   ],
   "source": [
    "from scipy.stats import t\n",
    "# Calculate the degrees of freedom\n",
    "degrees_of_freedom = len(penguins['sex'])-2\n",
    "\n",
    "# Calculate the p-value from the test stat\n",
    "p_value = t.cdf(t_stat, df=degrees_of_freedom)\n",
    "\n",
    "# Print the p_value\n",
    "print('The p-value is: {}'.format(p_value))"
   ]
  },
  {
   "cell_type": "markdown",
   "metadata": {
    "cell_id": "20b768f0e02d4e898135f8f74fb284e8",
    "deepnote_cell_type": "markdown"
   },
   "source": [
    "<strong> Conclusion: </strong> We keep the H0 since the p-value is higher 0.05."
   ]
  },
  {
   "cell_type": "code",
   "execution_count": null,
   "metadata": {
    "cell_id": "82d2ca43cbe647fe9991bc6432407bb0",
    "deepnote_cell_type": "code",
    "deepnote_to_be_reexecuted": false,
    "execution_millis": 207,
    "execution_start": 1699352581901,
    "scrolled": true,
    "source_hash": null
   },
   "outputs": [],
   "source": [
    "sns.barplot(x=penguins['sex'], y= penguins['body_mass_g'])"
   ]
  },
  {
   "cell_type": "markdown",
   "metadata": {
    "cell_id": "0f9eec4c0c4e4760ad37bc1874edc38b",
    "deepnote_cell_type": "markdown"
   },
   "source": [
    "Simpler method is by using a package:"
   ]
  },
  {
   "cell_type": "code",
   "execution_count": null,
   "metadata": {
    "cell_id": "8c62f70ce7ab44858fefda3cbdf9eebf",
    "deepnote_cell_type": "code",
    "deepnote_to_be_reexecuted": false,
    "execution_millis": 24479,
    "execution_start": 1699352582338,
    "source_hash": null
   },
   "outputs": [
    {
     "name": "stdout",
     "output_type": "stream",
     "text": [
      "Collecting pingouin\n",
      "  Downloading pingouin-0.5.3-py3-none-any.whl (198 kB)\n",
      "\u001b[2K     \u001b[90m━━━━━━━━━━━━━━━━━━━━━━━━━━━━━━━━━━━━━━\u001b[0m \u001b[32m198.6/198.6 kB\u001b[0m \u001b[31m21.5 MB/s\u001b[0m eta \u001b[36m0:00:00\u001b[0m\n",
      "\u001b[?25hCollecting statsmodels>=0.13\n",
      "  Downloading statsmodels-0.14.0-cp39-cp39-manylinux_2_17_x86_64.manylinux2014_x86_64.whl (10.1 MB)\n",
      "\u001b[2K     \u001b[90m━━━━━━━━━━━━━━━━━━━━━━━━━━━━━━━━━━━━━━━━\u001b[0m \u001b[32m10.1/10.1 MB\u001b[0m \u001b[31m60.3 MB/s\u001b[0m eta \u001b[36m0:00:00\u001b[0m\n",
      "\u001b[?25hCollecting outdated\n",
      "  Downloading outdated-0.2.2-py2.py3-none-any.whl (7.5 kB)\n",
      "Requirement already satisfied: matplotlib>=3.0.2 in /shared-libs/python3.9/py/lib/python3.9/site-packages (from pingouin) (3.6.0)\n",
      "Requirement already satisfied: pandas>=1.0 in /shared-libs/python3.9/py/lib/python3.9/site-packages (from pingouin) (1.2.5)\n",
      "Requirement already satisfied: seaborn>=0.11 in /shared-libs/python3.9/py/lib/python3.9/site-packages (from pingouin) (0.12.1)\n",
      "Requirement already satisfied: scikit-learn in /shared-libs/python3.9/py/lib/python3.9/site-packages (from pingouin) (1.1.2)\n",
      "Requirement already satisfied: numpy>=1.19 in /shared-libs/python3.9/py/lib/python3.9/site-packages (from pingouin) (1.23.4)\n",
      "Requirement already satisfied: tabulate in /shared-libs/python3.9/py/lib/python3.9/site-packages (from pingouin) (0.9.0)\n",
      "Collecting pandas-flavor>=0.2.0\n",
      "  Downloading pandas_flavor-0.6.0-py3-none-any.whl (7.2 kB)\n",
      "Requirement already satisfied: scipy>=1.7 in /shared-libs/python3.9/py/lib/python3.9/site-packages (from pingouin) (1.9.3)\n",
      "Requirement already satisfied: python-dateutil>=2.7 in /shared-libs/python3.9/py-core/lib/python3.9/site-packages (from matplotlib>=3.0.2->pingouin) (2.8.2)\n",
      "Requirement already satisfied: pillow>=6.2.0 in /shared-libs/python3.9/py/lib/python3.9/site-packages (from matplotlib>=3.0.2->pingouin) (9.2.0)\n",
      "Requirement already satisfied: cycler>=0.10 in /shared-libs/python3.9/py/lib/python3.9/site-packages (from matplotlib>=3.0.2->pingouin) (0.11.0)\n",
      "Requirement already satisfied: packaging>=20.0 in /shared-libs/python3.9/py-core/lib/python3.9/site-packages (from matplotlib>=3.0.2->pingouin) (21.3)\n",
      "Requirement already satisfied: fonttools>=4.22.0 in /shared-libs/python3.9/py/lib/python3.9/site-packages (from matplotlib>=3.0.2->pingouin) (4.37.4)\n",
      "Requirement already satisfied: contourpy>=1.0.1 in /shared-libs/python3.9/py/lib/python3.9/site-packages (from matplotlib>=3.0.2->pingouin) (1.0.5)\n",
      "Requirement already satisfied: kiwisolver>=1.0.1 in /shared-libs/python3.9/py/lib/python3.9/site-packages (from matplotlib>=3.0.2->pingouin) (1.4.4)\n",
      "Requirement already satisfied: pyparsing>=2.2.1 in /shared-libs/python3.9/py-core/lib/python3.9/site-packages (from matplotlib>=3.0.2->pingouin) (3.0.9)\n",
      "Requirement already satisfied: pytz>=2017.3 in /shared-libs/python3.9/py/lib/python3.9/site-packages (from pandas>=1.0->pingouin) (2022.5)\n",
      "Collecting xarray\n",
      "  Downloading xarray-2023.10.1-py3-none-any.whl (1.1 MB)\n",
      "\u001b[2K     \u001b[90m━━━━━━━━━━━━━━━━━━━━━━━━━━━━━━━━━━━━━━━━\u001b[0m \u001b[32m1.1/1.1 MB\u001b[0m \u001b[31m64.2 MB/s\u001b[0m eta \u001b[36m0:00:00\u001b[0m\n",
      "\u001b[?25hCollecting patsy>=0.5.2\n",
      "  Downloading patsy-0.5.3-py2.py3-none-any.whl (233 kB)\n",
      "\u001b[2K     \u001b[90m━━━━━━━━━━━━━━━━━━━━━━━━━━━━━━━━━━━━━━\u001b[0m \u001b[32m233.8/233.8 kB\u001b[0m \u001b[31m27.3 MB/s\u001b[0m eta \u001b[36m0:00:00\u001b[0m\n",
      "\u001b[?25hRequirement already satisfied: setuptools>=44 in /root/venv/lib/python3.9/site-packages (from outdated->pingouin) (58.1.0)\n",
      "Requirement already satisfied: requests in /shared-libs/python3.9/py/lib/python3.9/site-packages (from outdated->pingouin) (2.28.1)\n",
      "Collecting littleutils\n",
      "  Downloading littleutils-0.2.2.tar.gz (6.6 kB)\n",
      "  Preparing metadata (setup.py) ... \u001b[?25ldone\n",
      "\u001b[?25hRequirement already satisfied: threadpoolctl>=2.0.0 in /shared-libs/python3.9/py/lib/python3.9/site-packages (from scikit-learn->pingouin) (3.1.0)\n",
      "Requirement already satisfied: joblib>=1.0.0 in /shared-libs/python3.9/py/lib/python3.9/site-packages (from scikit-learn->pingouin) (1.2.0)\n",
      "Requirement already satisfied: six in /shared-libs/python3.9/py-core/lib/python3.9/site-packages (from patsy>=0.5.2->statsmodels>=0.13->pingouin) (1.16.0)\n",
      "Requirement already satisfied: certifi>=2017.4.17 in /shared-libs/python3.9/py/lib/python3.9/site-packages (from requests->outdated->pingouin) (2022.9.24)\n",
      "Requirement already satisfied: urllib3<1.27,>=1.21.1 in /shared-libs/python3.9/py/lib/python3.9/site-packages (from requests->outdated->pingouin) (1.26.12)\n",
      "Requirement already satisfied: idna<4,>=2.5 in /shared-libs/python3.9/py-core/lib/python3.9/site-packages (from requests->outdated->pingouin) (3.4)\n",
      "Requirement already satisfied: charset-normalizer<3,>=2 in /shared-libs/python3.9/py-core/lib/python3.9/site-packages (from requests->outdated->pingouin) (2.1.1)\n",
      "Collecting pandas>=1.0\n",
      "  Downloading pandas-2.1.2-cp39-cp39-manylinux_2_17_x86_64.manylinux2014_x86_64.whl (12.3 MB)\n",
      "\u001b[2K     \u001b[90m━━━━━━━━━━━━━━━━━━━━━━━━━━━━━━━━━━━━━━━━\u001b[0m \u001b[32m12.3/12.3 MB\u001b[0m \u001b[31m56.1 MB/s\u001b[0m eta \u001b[36m0:00:00\u001b[0m\n",
      "\u001b[?25hRequirement already satisfied: tzdata>=2022.1 in /shared-libs/python3.9/py/lib/python3.9/site-packages (from pandas>=1.0->pingouin) (2022.5)\n",
      "Building wheels for collected packages: littleutils\n",
      "  Building wheel for littleutils (setup.py) ... \u001b[?25ldone\n",
      "\u001b[?25h  Created wheel for littleutils: filename=littleutils-0.2.2-py3-none-any.whl size=7048 sha256=594806300bf2fea7ee7180ba5370f1c163c2d3bfe99066f284c0ccc61dde4131\n",
      "  Stored in directory: /root/.cache/pip/wheels/04/bb/0d/2d02ec45f29c48d6192476bfb59c5a0e64b605e7212374dd15\n",
      "Successfully built littleutils\n",
      "Installing collected packages: littleutils, patsy, pandas, outdated, xarray, statsmodels, pandas-flavor, pingouin\n",
      "  Attempting uninstall: pandas\n",
      "    Found existing installation: pandas 1.2.5\n",
      "    Not uninstalling pandas at /shared-libs/python3.9/py/lib/python3.9/site-packages, outside environment /root/venv\n",
      "    Can't uninstall 'pandas'. No files were found to uninstall.\n",
      "Successfully installed littleutils-0.2.2 outdated-0.2.2 pandas-2.1.2 pandas-flavor-0.6.0 patsy-0.5.3 pingouin-0.5.3 statsmodels-0.14.0 xarray-2023.10.1\n",
      "\n",
      "\u001b[1m[\u001b[0m\u001b[34;49mnotice\u001b[0m\u001b[1;39;49m]\u001b[0m\u001b[39;49m A new release of pip is available: \u001b[0m\u001b[31;49m23.0.1\u001b[0m\u001b[39;49m -> \u001b[0m\u001b[32;49m23.3.1\u001b[0m\n",
      "\u001b[1m[\u001b[0m\u001b[34;49mnotice\u001b[0m\u001b[1;39;49m]\u001b[0m\u001b[39;49m To update, run: \u001b[0m\u001b[32;49mpip install --upgrade pip\u001b[0m\n"
     ]
    }
   ],
   "source": [
    "# INSTALL pingouin first on workspace remove #:\n",
    "!pip install pingouin "
   ]
  },
  {
   "cell_type": "code",
   "execution_count": null,
   "metadata": {
    "cell_id": "8e7eca8f9138470fae8c4e11dfa18db8",
    "deepnote_cell_type": "code",
    "deepnote_to_be_reexecuted": false,
    "execution_millis": 168,
    "execution_start": 1699352606825,
    "source_hash": null
   },
   "outputs": [
    {
     "name": "stdout",
     "output_type": "stream",
     "text": [
      "               T         dof alternative  p-val           CI95%   cohen-d  \\\n",
      "T-test  8.554537  323.895881        less    1.0  [-inf, 815.19]  0.936205   \n",
      "\n",
      "             BF10         power  \n",
      "T-test  4.379e-14  6.611908e-18  \n"
     ]
    }
   ],
   "source": [
    "import pingouin as pg\n",
    "#in this test attach to parameter x a list of all the values of one category (male) \n",
    "# and insert in y a list of all the values of the other category\n",
    "test_results = pg.ttest(x=penguins[penguins['sex']== 'Male']['body_mass_g'], \n",
    "                        y=penguins[penguins['sex']== 'Female']['body_mass_g'], alternative='less')\n",
    "print(test_results)"
   ]
  },
  {
   "cell_type": "markdown",
   "metadata": {
    "cell_id": "2cb30a563e4549078f0d141a833ab8e0",
    "deepnote_cell_type": "markdown"
   },
   "source": [
    "## Hypothesis 3: ANOVA"
   ]
  },
  {
   "cell_type": "markdown",
   "metadata": {
    "cell_id": "4cc7523021774a9796408fa896c18de6",
    "deepnote_cell_type": "markdown"
   },
   "source": [
    "- H0: The mean of body mass for each specie is  <strong> equal (no difference)</strong> to the other species (μ_adelie =  μ_chinstrap = μ_gentoo)\n",
    "- Ha/H1: The mean of body mass for each specie is  <strong> not equal (difference)</strong> to the other species (μ_adelie ≠  μ_chinstrap ≠ μ_gentoo)"
   ]
  },
  {
   "cell_type": "code",
   "execution_count": null,
   "metadata": {
    "cell_id": "cdefee9f29f346d2ae616a25feef4c5e",
    "deepnote_cell_type": "code",
    "deepnote_to_be_reexecuted": false,
    "execution_millis": 47,
    "execution_start": 1699352607040,
    "source_hash": null
   },
   "outputs": [
    {
     "name": "stdout",
     "output_type": "stream",
     "text": [
      "    Source  ddof1  ddof2           F         p-unc       np2\n",
      "0  species      2    339  343.626275  2.892368e-82  0.669672\n"
     ]
    }
   ],
   "source": [
    "anova_results = pg.anova(data=penguins, dv='body_mass_g', between='species')\n",
    "print(anova_results)"
   ]
  },
  {
   "cell_type": "markdown",
   "metadata": {
    "cell_id": "19e20992a0d14e7fac5cd97d31da560c",
    "deepnote_cell_type": "markdown"
   },
   "source": [
    "<strong> Conclusion: </strong>We reject the H0 since the p-value is lower 0.05."
   ]
  },
  {
   "cell_type": "code",
   "execution_count": null,
   "metadata": {
    "cell_id": "0846090967a24e2ab1f957aab32bd995",
    "deepnote_cell_type": "code",
    "deepnote_to_be_reexecuted": false,
    "execution_millis": 359,
    "execution_start": 1699352607128,
    "source_hash": null
   },
   "outputs": [
    {
     "data": {
      "text/plain": [
       "<AxesSubplot: xlabel='species', ylabel='body_mass_g'>"
      ]
     },
     "execution_count": 21,
     "metadata": {},
     "output_type": "execute_result"
    }
   ],
   "source": [
    "sns.barplot(data=penguins, y='body_mass_g', x='species', hue='species')"
   ]
  },
  {
   "cell_type": "markdown",
   "metadata": {
    "cell_id": "a6fa3658183c4e3a90e91ee70e53b4ed",
    "deepnote_cell_type": "markdown"
   },
   "source": [
    "Other statistical methods:\n",
    " - Pearson correlation\n",
    " - one-sample t-test\n",
    " - Chi-squared test\n",
    " - Paired t-test\n",
    " - Linear regression"
   ]
  },
  {
   "cell_type": "markdown",
   "metadata": {
    "cell_id": "0f7ac8a6fe1a4e4cb73353a8a3005756",
    "deepnote_cell_type": "markdown"
   },
   "source": [
    "![](https://cdn.scribbr.com/wp-content/uploads/2021/01/type-i-and-ii-error-2.png)"
   ]
  },
  {
   "cell_type": "markdown",
   "metadata": {
    "cell_id": "fd7604d44a004fae840a6e87da1eebb9",
    "deepnote_cell_type": "markdown"
   },
   "source": [
    "# Machine Learning Hypothesis"
   ]
  },
  {
   "cell_type": "markdown",
   "metadata": {
    "cell_id": "6909b904434e40118e8ed07103a9f4ea",
    "deepnote_cell_type": "markdown"
   },
   "source": [
    "Also for algorithms or models does hypothesiss consist. It is used in supervised learning to find the function that best maps input to output. <br>\n",
    "The <strong> hypothesis </strong>can be a single model that maps features to the target, however, may be the result/metrics. "
   ]
  },
  {
   "cell_type": "markdown",
   "metadata": {
    "created_in_deepnote_cell": true,
    "deepnote_cell_type": "markdown"
   },
   "source": [
    "<a style='text-decoration:none;line-height:16px;display:flex;color:#5B5B62;padding:10px;justify-content:end;' href='https://deepnote.com?utm_source=created-in-deepnote-cell&projectId=396e6a71-39e4-4b31-b756-ce7324373cd4' target=\"_blank\">\n",
    "<img alt='Created in deepnote.com' style='display:inline;max-height:16px;margin:0px;margin-right:7.5px;' src='data:image/svg+xml;base64,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' > </img>\n",
    "Created in <span style='font-weight:600;margin-left:4px;'>Deepnote</span></a>"
   ]
  }
 ],
 "metadata": {
  "deepnote": {},
  "deepnote_execution_queue": [],
  "deepnote_notebook_id": "3cc6213e99dc41c3bdf2db5e76ac971e",
  "deepnote_persisted_session": {
   "createdAt": "2023-11-07T11:00:39.450Z"
  },
  "kernelspec": {
   "display_name": "Python 3 (ipykernel)",
   "language": "python",
   "name": "python3"
  },
  "language_info": {
   "codemirror_mode": {
    "name": "ipython",
    "version": 3
   },
   "file_extension": ".py",
   "mimetype": "text/x-python",
   "name": "python",
   "nbconvert_exporter": "python",
   "pygments_lexer": "ipython3",
   "version": "3.9.20"
  }
 },
 "nbformat": 4,
 "nbformat_minor": 4
}
